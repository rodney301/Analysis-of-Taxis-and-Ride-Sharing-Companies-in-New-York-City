{
 "cells": [
  {
   "cell_type": "markdown",
   "metadata": {},
   "source": [
    "## Group Nucleus - NYC For-Hire Vehicle (FHV) Aggregate Report"
   ]
  },
  {
   "cell_type": "code",
   "execution_count": 49,
   "metadata": {},
   "outputs": [],
   "source": [
    "#import all the required packages\n",
    "import pandas as pd\n",
    "import matplotlib.pyplot as plt\n",
    "import seaborn as sns"
   ]
  },
  {
   "cell_type": "markdown",
   "metadata": {},
   "source": [
    "### Transformation of Data with conversion of type to datetime and categories as well as recategorization of variables"
   ]
  },
  {
   "cell_type": "code",
   "execution_count": 50,
   "metadata": {},
   "outputs": [],
   "source": [
    "#read in the latest CSV file\n",
    "data = pd.read_csv('FHV_Base_Aggregate_Report.csv')"
   ]
  },
  {
   "cell_type": "code",
   "execution_count": 51,
   "metadata": {},
   "outputs": [
    {
     "data": {
      "text/plain": [
       "(34540, 10)"
      ]
     },
     "execution_count": 51,
     "metadata": {},
     "output_type": "execute_result"
    }
   ],
   "source": [
    "#create a new column 'year_month' using the 'Year' and 'Month' columns and set to 1st day of the month\n",
    "data['year_month'] = pd.to_datetime(data[['Year', 'Month']].assign(DAY=1))\n",
    "\n",
    "#finding the dimensions of the imported data\n",
    "data.shape"
   ]
  },
  {
   "cell_type": "markdown",
   "metadata": {},
   "source": [
    "#### Recategorization of Variables to Explore Market Share Trends between private cars and taxis"
   ]
  },
  {
   "cell_type": "code",
   "execution_count": 52,
   "metadata": {},
   "outputs": [
    {
     "name": "stdout",
     "output_type": "stream",
     "text": [
      "The number of unique private cars and taxis companies are 4 and 868 respectively.\n"
     ]
    }
   ],
   "source": [
    "#Intent: we want to explore the market share trends between private cars and taxis\n",
    "\n",
    "#now we want to recategorize the different companies into: (a) private cars; and (b) taxis\n",
    "list_of_companies = data['Base Name'].tolist()\n",
    "\n",
    "private_cars = ['LYFT','UBER','JUNO', 'VIA']\n",
    "taxis_with_dup_names = []\n",
    "for i in range(len(list_of_companies)): \n",
    "    if (list_of_companies[i] != 'LYFT' and list_of_companies[i] != 'UBER' and list_of_companies[i] != 'JUNO' and list_of_companies[i] != 'VIA'):\n",
    "        taxis_with_dup_names.append(list_of_companies[i])\n",
    "\n",
    "#now, lets remove the duplicate companies names within taxis\n",
    "taxis = []\n",
    "for i in taxis_with_dup_names:\n",
    "    if i not in taxis:\n",
    "        taxis.append(i)\n",
    "        \n",
    "print(\"The number of unique private cars and taxis companies are\", len(private_cars), \"and\", len(taxis), \"respectively.\")"
   ]
  },
  {
   "cell_type": "markdown",
   "metadata": {},
   "source": [
    "#### Recategorization of Variables to Explore Market Share Trends between private cars (further split into the 4 major competitors namely Uber, Lyft, Juno and Via) and taxis"
   ]
  },
  {
   "cell_type": "code",
   "execution_count": 53,
   "metadata": {},
   "outputs": [],
   "source": [
    "#Intent: we want to explore the market share trends between the 4 major private cars companies and taxis\n",
    "\n",
    "#next we want to recategorize the different companies into: (a) UBER; (b) LYFT; (c) JUNO; (d) VIA; and (e) taxis\n",
    "#earlier, we have already populated the list of unique taxi companies names\n",
    "\n",
    "uber = ['UBER']\n",
    "lyft = ['LYFT']\n",
    "juno = ['JUNO']\n",
    "via = ['VIA']\n"
   ]
  },
  {
   "cell_type": "code",
   "execution_count": 54,
   "metadata": {},
   "outputs": [],
   "source": [
    "#next we want to create a new column 'private_cars_or_taxis' that will only have 2 categories namely 'private_cars' and 'taxis'\n",
    "#first we set up a dictionary\n",
    "private_cars_taxis = {\"private_cars\": private_cars, \"taxis\": taxis}\n",
    "\n",
    "#using list comprehension\n",
    "new_labels = {v: k for k,vv in private_cars_taxis.items() for v in vv}\n",
    "new_labels\n",
    "\n",
    "#creating a new categorical column 'private_cars_or_taxis' with the map method\n",
    "data['private_cars_or_taxis'] = data['Base Name'].map(new_labels).astype(\"category\")\n"
   ]
  },
  {
   "cell_type": "code",
   "execution_count": 56,
   "metadata": {},
   "outputs": [],
   "source": [
    "#now, we want to create a new column 'uber_lyft_juno_via_taxis' that will only have 5 categories namely\n",
    "#'UBER', 'LYFT', 'JUNO', 'VIA' and 'taxis'\n",
    "#first we set up a dictionary\n",
    "uber_lyft_juno_via_taxis = {\"UBER\": uber, \"LYFT\": lyft, \"JUNO\": juno, \"VIA\": via, \"taxis\": taxis}\n",
    "\n",
    "#using list comprehension\n",
    "new_labels = {v: k for k,vv in uber_lyft_juno_via_taxis.items() for v in vv}\n",
    "new_labels\n",
    "\n",
    "#creating a new categorical column 'private_cars_or_taxis' with the map method\n",
    "data['uber_lyft_juno_via_taxis'] = data['Base Name'].map(new_labels).astype(\"category\")\n"
   ]
  },
  {
   "cell_type": "markdown",
   "metadata": {},
   "source": [
    "#### Recategorization of Variables to Explore Seasonal Effects on Demand"
   ]
  },
  {
   "cell_type": "code",
   "execution_count": 57,
   "metadata": {},
   "outputs": [],
   "source": [
    "#Intent: we want to explore the trends of trips in tandem with seasons (i.e. Spring, Summer, Fall, Winter)\n",
    "#this will help in better allocation of resources with seasonal fluctuations\n",
    "\n",
    "#now we want to recategorize the different months into: (a) spring; (b) summer; (c) fall; and (d) winter\n",
    "\n",
    "spring = ['January','February','March']\n",
    "summer = ['April','May','June']\n",
    "fall = ['July','August','September']\n",
    "winter = ['October','November','December']\n"
   ]
  },
  {
   "cell_type": "code",
   "execution_count": 58,
   "metadata": {},
   "outputs": [],
   "source": [
    "#next we want to create a new column 'seasons' that will only have 4 categories namely 'spring', 'summer', 'fall' and 'winter'\n",
    "#first we set up a dictionary\n",
    "seasons = {\"spring\": spring, \"summer\": summer, \"fall\": fall, \"winter\": winter}\n",
    "\n",
    "#using list comprehension\n",
    "new_labels = {v: k for k,vv in seasons.items() for v in vv}\n",
    "new_labels\n",
    "\n",
    "#creating a new categorical column 'private_cars_or_taxis' with the map method\n",
    "data['seasons'] = data['Month Name'].map(new_labels).astype(\"category\")\n"
   ]
  },
  {
   "cell_type": "markdown",
   "metadata": {},
   "source": [
    "#### Ensure that the transformation was done successfully with the correct data types"
   ]
  },
  {
   "cell_type": "code",
   "execution_count": 59,
   "metadata": {},
   "outputs": [
    {
     "name": "stdout",
     "output_type": "stream",
     "text": [
      "<class 'pandas.core.frame.DataFrame'>\n",
      "RangeIndex: 34540 entries, 0 to 34539\n",
      "Data columns (total 13 columns):\n",
      " #   Column                         Non-Null Count  Dtype         \n",
      "---  ------                         --------------  -----         \n",
      " 0   Base License Number            34540 non-null  object        \n",
      " 1   Base Name                      34540 non-null  object        \n",
      " 2   DBA                            7131 non-null   object        \n",
      " 3   Year                           34540 non-null  int64         \n",
      " 4   Month                          34540 non-null  int64         \n",
      " 5   Month Name                     34540 non-null  object        \n",
      " 6   Total Dispatched Trips         34540 non-null  int64         \n",
      " 7   Total Dispatched Shared Trips  34540 non-null  int64         \n",
      " 8   Unique Dispatched Vehicles     34540 non-null  int64         \n",
      " 9   year_month                     34540 non-null  datetime64[ns]\n",
      " 10  private_cars_or_taxis          34540 non-null  category      \n",
      " 11  uber_lyft_juno_via_taxis       34540 non-null  category      \n",
      " 12  seasons                        34540 non-null  category      \n",
      "dtypes: category(3), datetime64[ns](1), int64(5), object(4)\n",
      "memory usage: 2.7+ MB\n"
     ]
    }
   ],
   "source": [
    "#check that the new columns have been created successfully with the correct data types\n",
    "data.info()"
   ]
  },
  {
   "cell_type": "code",
   "execution_count": 60,
   "metadata": {},
   "outputs": [
    {
     "data": {
      "text/plain": [
       "(34540, 13)"
      ]
     },
     "execution_count": 60,
     "metadata": {},
     "output_type": "execute_result"
    }
   ],
   "source": [
    "#finding number of records and variables (with the additional 'year_month', private_cars_or_taxis', 'uber_lyft_juno_via_taxis' and 'seasons' columns)\n",
    "data.shape"
   ]
  },
  {
   "cell_type": "markdown",
   "metadata": {},
   "source": [
    "#### Visual inspection of the rows and cols of transformed data"
   ]
  },
  {
   "cell_type": "code",
   "execution_count": 61,
   "metadata": {},
   "outputs": [
    {
     "data": {
      "text/html": [
       "<div>\n",
       "<style scoped>\n",
       "    .dataframe tbody tr th:only-of-type {\n",
       "        vertical-align: middle;\n",
       "    }\n",
       "\n",
       "    .dataframe tbody tr th {\n",
       "        vertical-align: top;\n",
       "    }\n",
       "\n",
       "    .dataframe thead th {\n",
       "        text-align: right;\n",
       "    }\n",
       "</style>\n",
       "<table border=\"1\" class=\"dataframe\">\n",
       "  <thead>\n",
       "    <tr style=\"text-align: right;\">\n",
       "      <th></th>\n",
       "      <th>Base License Number</th>\n",
       "      <th>Base Name</th>\n",
       "      <th>DBA</th>\n",
       "      <th>Year</th>\n",
       "      <th>Month</th>\n",
       "      <th>Month Name</th>\n",
       "      <th>Total Dispatched Trips</th>\n",
       "      <th>Total Dispatched Shared Trips</th>\n",
       "      <th>Unique Dispatched Vehicles</th>\n",
       "      <th>year_month</th>\n",
       "      <th>private_cars_or_taxis</th>\n",
       "      <th>uber_lyft_juno_via_taxis</th>\n",
       "      <th>seasons</th>\n",
       "    </tr>\n",
       "  </thead>\n",
       "  <tbody>\n",
       "    <tr>\n",
       "      <th>0</th>\n",
       "      <td>B02627</td>\n",
       "      <td>A PEGASUS LIMOUSINE CORP.</td>\n",
       "      <td>APL LIMO</td>\n",
       "      <td>2017</td>\n",
       "      <td>5</td>\n",
       "      <td>May</td>\n",
       "      <td>276</td>\n",
       "      <td>0</td>\n",
       "      <td>10</td>\n",
       "      <td>2017-05-01</td>\n",
       "      <td>taxis</td>\n",
       "      <td>taxis</td>\n",
       "      <td>summer</td>\n",
       "    </tr>\n",
       "    <tr>\n",
       "      <th>1</th>\n",
       "      <td>B00477</td>\n",
       "      <td>INTA-BORO ACRES INC</td>\n",
       "      <td>NaN</td>\n",
       "      <td>2017</td>\n",
       "      <td>5</td>\n",
       "      <td>May</td>\n",
       "      <td>9751</td>\n",
       "      <td>0</td>\n",
       "      <td>175</td>\n",
       "      <td>2017-05-01</td>\n",
       "      <td>taxis</td>\n",
       "      <td>taxis</td>\n",
       "      <td>summer</td>\n",
       "    </tr>\n",
       "    <tr>\n",
       "      <th>2</th>\n",
       "      <td>B01386</td>\n",
       "      <td>FENIX PREMIUM CORP.</td>\n",
       "      <td>NaN</td>\n",
       "      <td>2017</td>\n",
       "      <td>5</td>\n",
       "      <td>May</td>\n",
       "      <td>10724</td>\n",
       "      <td>0</td>\n",
       "      <td>37</td>\n",
       "      <td>2017-05-01</td>\n",
       "      <td>taxis</td>\n",
       "      <td>taxis</td>\n",
       "      <td>summer</td>\n",
       "    </tr>\n",
       "    <tr>\n",
       "      <th>3</th>\n",
       "      <td>B01734</td>\n",
       "      <td>AMERICAN DREAM CAR SERVICE INC.</td>\n",
       "      <td>NaN</td>\n",
       "      <td>2017</td>\n",
       "      <td>10</td>\n",
       "      <td>October</td>\n",
       "      <td>22</td>\n",
       "      <td>0</td>\n",
       "      <td>1</td>\n",
       "      <td>2017-10-01</td>\n",
       "      <td>taxis</td>\n",
       "      <td>taxis</td>\n",
       "      <td>winter</td>\n",
       "    </tr>\n",
       "    <tr>\n",
       "      <th>4</th>\n",
       "      <td>B00411</td>\n",
       "      <td>FONE-A-CAR INC</td>\n",
       "      <td>NaN</td>\n",
       "      <td>2020</td>\n",
       "      <td>11</td>\n",
       "      <td>November</td>\n",
       "      <td>341</td>\n",
       "      <td>0</td>\n",
       "      <td>90</td>\n",
       "      <td>2020-11-01</td>\n",
       "      <td>taxis</td>\n",
       "      <td>taxis</td>\n",
       "      <td>winter</td>\n",
       "    </tr>\n",
       "  </tbody>\n",
       "</table>\n",
       "</div>"
      ],
      "text/plain": [
       "  Base License Number                        Base Name       DBA  Year  Month  \\\n",
       "0              B02627        A PEGASUS LIMOUSINE CORP.  APL LIMO  2017      5   \n",
       "1              B00477              INTA-BORO ACRES INC       NaN  2017      5   \n",
       "2              B01386              FENIX PREMIUM CORP.       NaN  2017      5   \n",
       "3              B01734  AMERICAN DREAM CAR SERVICE INC.       NaN  2017     10   \n",
       "4              B00411                   FONE-A-CAR INC       NaN  2020     11   \n",
       "\n",
       "  Month Name  Total Dispatched Trips  Total Dispatched Shared Trips  \\\n",
       "0        May                     276                              0   \n",
       "1        May                    9751                              0   \n",
       "2        May                   10724                              0   \n",
       "3    October                      22                              0   \n",
       "4   November                     341                              0   \n",
       "\n",
       "   Unique Dispatched Vehicles year_month private_cars_or_taxis  \\\n",
       "0                          10 2017-05-01                 taxis   \n",
       "1                         175 2017-05-01                 taxis   \n",
       "2                          37 2017-05-01                 taxis   \n",
       "3                           1 2017-10-01                 taxis   \n",
       "4                          90 2020-11-01                 taxis   \n",
       "\n",
       "  uber_lyft_juno_via_taxis seasons  \n",
       "0                    taxis  summer  \n",
       "1                    taxis  summer  \n",
       "2                    taxis  summer  \n",
       "3                    taxis  winter  \n",
       "4                    taxis  winter  "
      ]
     },
     "execution_count": 61,
     "metadata": {},
     "output_type": "execute_result"
    }
   ],
   "source": [
    "#looking at the first few records\n",
    "data.head()"
   ]
  },
  {
   "cell_type": "markdown",
   "metadata": {},
   "source": [
    "#### Summary of Numeric Variables. We are focusing on the 'Total Dispatched Trips'"
   ]
  },
  {
   "cell_type": "code",
   "execution_count": 62,
   "metadata": {},
   "outputs": [
    {
     "data": {
      "text/html": [
       "<div>\n",
       "<style scoped>\n",
       "    .dataframe tbody tr th:only-of-type {\n",
       "        vertical-align: middle;\n",
       "    }\n",
       "\n",
       "    .dataframe tbody tr th {\n",
       "        vertical-align: top;\n",
       "    }\n",
       "\n",
       "    .dataframe thead th {\n",
       "        text-align: right;\n",
       "    }\n",
       "</style>\n",
       "<table border=\"1\" class=\"dataframe\">\n",
       "  <thead>\n",
       "    <tr style=\"text-align: right;\">\n",
       "      <th></th>\n",
       "      <th>Year</th>\n",
       "      <th>Month</th>\n",
       "      <th>Total Dispatched Trips</th>\n",
       "      <th>Total Dispatched Shared Trips</th>\n",
       "      <th>Unique Dispatched Vehicles</th>\n",
       "    </tr>\n",
       "  </thead>\n",
       "  <tbody>\n",
       "    <tr>\n",
       "      <th>count</th>\n",
       "      <td>34540.000000</td>\n",
       "      <td>34540.000000</td>\n",
       "      <td>3.454000e+04</td>\n",
       "      <td>3.454000e+04</td>\n",
       "      <td>34540.000000</td>\n",
       "    </tr>\n",
       "    <tr>\n",
       "      <th>mean</th>\n",
       "      <td>2017.770672</td>\n",
       "      <td>6.637290</td>\n",
       "      <td>3.116322e+04</td>\n",
       "      <td>3.731392e+03</td>\n",
       "      <td>233.730776</td>\n",
       "    </tr>\n",
       "    <tr>\n",
       "      <th>std</th>\n",
       "      <td>1.553308</td>\n",
       "      <td>3.452892</td>\n",
       "      <td>4.893946e+05</td>\n",
       "      <td>8.867676e+04</td>\n",
       "      <td>2967.627951</td>\n",
       "    </tr>\n",
       "    <tr>\n",
       "      <th>min</th>\n",
       "      <td>2015.000000</td>\n",
       "      <td>1.000000</td>\n",
       "      <td>1.000000e+00</td>\n",
       "      <td>0.000000e+00</td>\n",
       "      <td>1.000000</td>\n",
       "    </tr>\n",
       "    <tr>\n",
       "      <th>25%</th>\n",
       "      <td>2017.000000</td>\n",
       "      <td>4.000000</td>\n",
       "      <td>3.630000e+02</td>\n",
       "      <td>0.000000e+00</td>\n",
       "      <td>8.000000</td>\n",
       "    </tr>\n",
       "    <tr>\n",
       "      <th>50%</th>\n",
       "      <td>2018.000000</td>\n",
       "      <td>7.000000</td>\n",
       "      <td>1.440000e+03</td>\n",
       "      <td>0.000000e+00</td>\n",
       "      <td>17.000000</td>\n",
       "    </tr>\n",
       "    <tr>\n",
       "      <th>75%</th>\n",
       "      <td>2019.000000</td>\n",
       "      <td>10.000000</td>\n",
       "      <td>4.791000e+03</td>\n",
       "      <td>0.000000e+00</td>\n",
       "      <td>45.000000</td>\n",
       "    </tr>\n",
       "    <tr>\n",
       "      <th>max</th>\n",
       "      <td>2020.000000</td>\n",
       "      <td>12.000000</td>\n",
       "      <td>1.724800e+07</td>\n",
       "      <td>4.110424e+06</td>\n",
       "      <td>79178.000000</td>\n",
       "    </tr>\n",
       "  </tbody>\n",
       "</table>\n",
       "</div>"
      ],
      "text/plain": [
       "               Year         Month  Total Dispatched Trips  \\\n",
       "count  34540.000000  34540.000000            3.454000e+04   \n",
       "mean    2017.770672      6.637290            3.116322e+04   \n",
       "std        1.553308      3.452892            4.893946e+05   \n",
       "min     2015.000000      1.000000            1.000000e+00   \n",
       "25%     2017.000000      4.000000            3.630000e+02   \n",
       "50%     2018.000000      7.000000            1.440000e+03   \n",
       "75%     2019.000000     10.000000            4.791000e+03   \n",
       "max     2020.000000     12.000000            1.724800e+07   \n",
       "\n",
       "       Total Dispatched Shared Trips  Unique Dispatched Vehicles  \n",
       "count                   3.454000e+04                34540.000000  \n",
       "mean                    3.731392e+03                  233.730776  \n",
       "std                     8.867676e+04                 2967.627951  \n",
       "min                     0.000000e+00                    1.000000  \n",
       "25%                     0.000000e+00                    8.000000  \n",
       "50%                     0.000000e+00                   17.000000  \n",
       "75%                     0.000000e+00                   45.000000  \n",
       "max                     4.110424e+06                79178.000000  "
      ]
     },
     "execution_count": 62,
     "metadata": {},
     "output_type": "execute_result"
    }
   ],
   "source": [
    "#computing the summary of key numeric variables\n",
    "data.describe()"
   ]
  },
  {
   "cell_type": "markdown",
   "metadata": {},
   "source": [
    "## Commencement of using seaborn for visualization and analyses for insights"
   ]
  },
  {
   "cell_type": "markdown",
   "metadata": {},
   "source": [
    "#### Using groupby method to aggregate across multiple parameters"
   ]
  },
  {
   "cell_type": "code",
   "execution_count": 63,
   "metadata": {},
   "outputs": [
    {
     "data": {
      "text/html": [
       "<div>\n",
       "<style scoped>\n",
       "    .dataframe tbody tr th:only-of-type {\n",
       "        vertical-align: middle;\n",
       "    }\n",
       "\n",
       "    .dataframe tbody tr th {\n",
       "        vertical-align: top;\n",
       "    }\n",
       "\n",
       "    .dataframe thead th {\n",
       "        text-align: right;\n",
       "    }\n",
       "</style>\n",
       "<table border=\"1\" class=\"dataframe\">\n",
       "  <thead>\n",
       "    <tr style=\"text-align: right;\">\n",
       "      <th></th>\n",
       "      <th></th>\n",
       "      <th>Year</th>\n",
       "      <th>Month</th>\n",
       "      <th>Total Dispatched Trips</th>\n",
       "      <th>Total Dispatched Shared Trips</th>\n",
       "      <th>Unique Dispatched Vehicles</th>\n",
       "    </tr>\n",
       "    <tr>\n",
       "      <th>year_month</th>\n",
       "      <th>private_cars_or_taxis</th>\n",
       "      <th></th>\n",
       "      <th></th>\n",
       "      <th></th>\n",
       "      <th></th>\n",
       "      <th></th>\n",
       "    </tr>\n",
       "  </thead>\n",
       "  <tbody>\n",
       "    <tr>\n",
       "      <th rowspan=\"2\" valign=\"top\">2015-01-01</th>\n",
       "      <th>private_cars</th>\n",
       "      <td>2015</td>\n",
       "      <td>1</td>\n",
       "      <td>1871075</td>\n",
       "      <td>0</td>\n",
       "      <td>12544</td>\n",
       "    </tr>\n",
       "    <tr>\n",
       "      <th>taxis</th>\n",
       "      <td>98735</td>\n",
       "      <td>49</td>\n",
       "      <td>828162</td>\n",
       "      <td>0</td>\n",
       "      <td>7801</td>\n",
       "    </tr>\n",
       "    <tr>\n",
       "      <th rowspan=\"2\" valign=\"top\">2015-02-01</th>\n",
       "      <th>private_cars</th>\n",
       "      <td>2015</td>\n",
       "      <td>2</td>\n",
       "      <td>2178305</td>\n",
       "      <td>0</td>\n",
       "      <td>13531</td>\n",
       "    </tr>\n",
       "    <tr>\n",
       "      <th>taxis</th>\n",
       "      <td>96720</td>\n",
       "      <td>96</td>\n",
       "      <td>844752</td>\n",
       "      <td>0</td>\n",
       "      <td>7640</td>\n",
       "    </tr>\n",
       "    <tr>\n",
       "      <th>2015-03-01</th>\n",
       "      <th>private_cars</th>\n",
       "      <td>2015</td>\n",
       "      <td>3</td>\n",
       "      <td>2259575</td>\n",
       "      <td>0</td>\n",
       "      <td>14290</td>\n",
       "    </tr>\n",
       "    <tr>\n",
       "      <th>...</th>\n",
       "      <th>...</th>\n",
       "      <td>...</td>\n",
       "      <td>...</td>\n",
       "      <td>...</td>\n",
       "      <td>...</td>\n",
       "      <td>...</td>\n",
       "    </tr>\n",
       "    <tr>\n",
       "      <th>2020-10-01</th>\n",
       "      <th>taxis</th>\n",
       "      <td>993840</td>\n",
       "      <td>4920</td>\n",
       "      <td>1217486</td>\n",
       "      <td>0</td>\n",
       "      <td>13029</td>\n",
       "    </tr>\n",
       "    <tr>\n",
       "      <th rowspan=\"2\" valign=\"top\">2020-11-01</th>\n",
       "      <th>private_cars</th>\n",
       "      <td>6060</td>\n",
       "      <td>33</td>\n",
       "      <td>11596862</td>\n",
       "      <td>0</td>\n",
       "      <td>81905</td>\n",
       "    </tr>\n",
       "    <tr>\n",
       "      <th>taxis</th>\n",
       "      <td>906980</td>\n",
       "      <td>4939</td>\n",
       "      <td>1086368</td>\n",
       "      <td>0</td>\n",
       "      <td>12140</td>\n",
       "    </tr>\n",
       "    <tr>\n",
       "      <th rowspan=\"2\" valign=\"top\">2020-12-01</th>\n",
       "      <th>private_cars</th>\n",
       "      <td>6060</td>\n",
       "      <td>36</td>\n",
       "      <td>11629785</td>\n",
       "      <td>0</td>\n",
       "      <td>80517</td>\n",
       "    </tr>\n",
       "    <tr>\n",
       "      <th>taxis</th>\n",
       "      <td>868600</td>\n",
       "      <td>5160</td>\n",
       "      <td>979842</td>\n",
       "      <td>0</td>\n",
       "      <td>10769</td>\n",
       "    </tr>\n",
       "  </tbody>\n",
       "</table>\n",
       "<p>144 rows × 5 columns</p>\n",
       "</div>"
      ],
      "text/plain": [
       "                                    Year  Month  Total Dispatched Trips  \\\n",
       "year_month private_cars_or_taxis                                          \n",
       "2015-01-01 private_cars             2015      1                 1871075   \n",
       "           taxis                   98735     49                  828162   \n",
       "2015-02-01 private_cars             2015      2                 2178305   \n",
       "           taxis                   96720     96                  844752   \n",
       "2015-03-01 private_cars             2015      3                 2259575   \n",
       "...                                  ...    ...                     ...   \n",
       "2020-10-01 taxis                  993840   4920                 1217486   \n",
       "2020-11-01 private_cars             6060     33                11596862   \n",
       "           taxis                  906980   4939                 1086368   \n",
       "2020-12-01 private_cars             6060     36                11629785   \n",
       "           taxis                  868600   5160                  979842   \n",
       "\n",
       "                                  Total Dispatched Shared Trips  \\\n",
       "year_month private_cars_or_taxis                                  \n",
       "2015-01-01 private_cars                                       0   \n",
       "           taxis                                              0   \n",
       "2015-02-01 private_cars                                       0   \n",
       "           taxis                                              0   \n",
       "2015-03-01 private_cars                                       0   \n",
       "...                                                         ...   \n",
       "2020-10-01 taxis                                              0   \n",
       "2020-11-01 private_cars                                       0   \n",
       "           taxis                                              0   \n",
       "2020-12-01 private_cars                                       0   \n",
       "           taxis                                              0   \n",
       "\n",
       "                                  Unique Dispatched Vehicles  \n",
       "year_month private_cars_or_taxis                              \n",
       "2015-01-01 private_cars                                12544  \n",
       "           taxis                                        7801  \n",
       "2015-02-01 private_cars                                13531  \n",
       "           taxis                                        7640  \n",
       "2015-03-01 private_cars                                14290  \n",
       "...                                                      ...  \n",
       "2020-10-01 taxis                                       13029  \n",
       "2020-11-01 private_cars                                81905  \n",
       "           taxis                                       12140  \n",
       "2020-12-01 private_cars                                80517  \n",
       "           taxis                                       10769  \n",
       "\n",
       "[144 rows x 5 columns]"
      ]
     },
     "execution_count": 63,
     "metadata": {},
     "output_type": "execute_result"
    }
   ],
   "source": [
    "#using the method groupby to populate the trips based on 'year_month' and 'private_cars_or_taxis'\n",
    "total_trips_private_cars_or_taxis = data.groupby(['year_month', 'private_cars_or_taxis']).sum()\n",
    "total_trips_private_cars_or_taxis\n"
   ]
  },
  {
   "cell_type": "markdown",
   "metadata": {},
   "source": [
    "#### Finding the proportion of trips fulfilled by private cars and taxis per month"
   ]
  },
  {
   "cell_type": "code",
   "execution_count": 64,
   "metadata": {},
   "outputs": [
    {
     "data": {
      "text/html": [
       "<div>\n",
       "<style scoped>\n",
       "    .dataframe tbody tr th:only-of-type {\n",
       "        vertical-align: middle;\n",
       "    }\n",
       "\n",
       "    .dataframe tbody tr th {\n",
       "        vertical-align: top;\n",
       "    }\n",
       "\n",
       "    .dataframe thead th {\n",
       "        text-align: right;\n",
       "    }\n",
       "</style>\n",
       "<table border=\"1\" class=\"dataframe\">\n",
       "  <thead>\n",
       "    <tr style=\"text-align: right;\">\n",
       "      <th></th>\n",
       "      <th></th>\n",
       "      <th>Year</th>\n",
       "      <th>Month</th>\n",
       "      <th>Total Dispatched Trips</th>\n",
       "      <th>Total Dispatched Shared Trips</th>\n",
       "      <th>Unique Dispatched Vehicles</th>\n",
       "      <th>prop_of_trips</th>\n",
       "    </tr>\n",
       "    <tr>\n",
       "      <th>year_month</th>\n",
       "      <th>private_cars_or_taxis</th>\n",
       "      <th></th>\n",
       "      <th></th>\n",
       "      <th></th>\n",
       "      <th></th>\n",
       "      <th></th>\n",
       "      <th></th>\n",
       "    </tr>\n",
       "  </thead>\n",
       "  <tbody>\n",
       "    <tr>\n",
       "      <th rowspan=\"2\" valign=\"top\">2015-01-01</th>\n",
       "      <th>private_cars</th>\n",
       "      <td>2015</td>\n",
       "      <td>1</td>\n",
       "      <td>1871075</td>\n",
       "      <td>0</td>\n",
       "      <td>12544</td>\n",
       "      <td>69.3</td>\n",
       "    </tr>\n",
       "    <tr>\n",
       "      <th>taxis</th>\n",
       "      <td>98735</td>\n",
       "      <td>49</td>\n",
       "      <td>828162</td>\n",
       "      <td>0</td>\n",
       "      <td>7801</td>\n",
       "      <td>30.7</td>\n",
       "    </tr>\n",
       "    <tr>\n",
       "      <th rowspan=\"2\" valign=\"top\">2015-02-01</th>\n",
       "      <th>private_cars</th>\n",
       "      <td>2015</td>\n",
       "      <td>2</td>\n",
       "      <td>2178305</td>\n",
       "      <td>0</td>\n",
       "      <td>13531</td>\n",
       "      <td>72.1</td>\n",
       "    </tr>\n",
       "    <tr>\n",
       "      <th>taxis</th>\n",
       "      <td>96720</td>\n",
       "      <td>96</td>\n",
       "      <td>844752</td>\n",
       "      <td>0</td>\n",
       "      <td>7640</td>\n",
       "      <td>27.9</td>\n",
       "    </tr>\n",
       "    <tr>\n",
       "      <th>2015-03-01</th>\n",
       "      <th>private_cars</th>\n",
       "      <td>2015</td>\n",
       "      <td>3</td>\n",
       "      <td>2259575</td>\n",
       "      <td>0</td>\n",
       "      <td>14290</td>\n",
       "      <td>71.0</td>\n",
       "    </tr>\n",
       "    <tr>\n",
       "      <th>...</th>\n",
       "      <th>...</th>\n",
       "      <td>...</td>\n",
       "      <td>...</td>\n",
       "      <td>...</td>\n",
       "      <td>...</td>\n",
       "      <td>...</td>\n",
       "      <td>...</td>\n",
       "    </tr>\n",
       "    <tr>\n",
       "      <th>2020-10-01</th>\n",
       "      <th>taxis</th>\n",
       "      <td>993840</td>\n",
       "      <td>4920</td>\n",
       "      <td>1217486</td>\n",
       "      <td>0</td>\n",
       "      <td>13029</td>\n",
       "      <td>8.4</td>\n",
       "    </tr>\n",
       "    <tr>\n",
       "      <th rowspan=\"2\" valign=\"top\">2020-11-01</th>\n",
       "      <th>private_cars</th>\n",
       "      <td>6060</td>\n",
       "      <td>33</td>\n",
       "      <td>11596862</td>\n",
       "      <td>0</td>\n",
       "      <td>81905</td>\n",
       "      <td>91.4</td>\n",
       "    </tr>\n",
       "    <tr>\n",
       "      <th>taxis</th>\n",
       "      <td>906980</td>\n",
       "      <td>4939</td>\n",
       "      <td>1086368</td>\n",
       "      <td>0</td>\n",
       "      <td>12140</td>\n",
       "      <td>8.6</td>\n",
       "    </tr>\n",
       "    <tr>\n",
       "      <th rowspan=\"2\" valign=\"top\">2020-12-01</th>\n",
       "      <th>private_cars</th>\n",
       "      <td>6060</td>\n",
       "      <td>36</td>\n",
       "      <td>11629785</td>\n",
       "      <td>0</td>\n",
       "      <td>80517</td>\n",
       "      <td>92.2</td>\n",
       "    </tr>\n",
       "    <tr>\n",
       "      <th>taxis</th>\n",
       "      <td>868600</td>\n",
       "      <td>5160</td>\n",
       "      <td>979842</td>\n",
       "      <td>0</td>\n",
       "      <td>10769</td>\n",
       "      <td>7.8</td>\n",
       "    </tr>\n",
       "  </tbody>\n",
       "</table>\n",
       "<p>144 rows × 6 columns</p>\n",
       "</div>"
      ],
      "text/plain": [
       "                                    Year  Month  Total Dispatched Trips  \\\n",
       "year_month private_cars_or_taxis                                          \n",
       "2015-01-01 private_cars             2015      1                 1871075   \n",
       "           taxis                   98735     49                  828162   \n",
       "2015-02-01 private_cars             2015      2                 2178305   \n",
       "           taxis                   96720     96                  844752   \n",
       "2015-03-01 private_cars             2015      3                 2259575   \n",
       "...                                  ...    ...                     ...   \n",
       "2020-10-01 taxis                  993840   4920                 1217486   \n",
       "2020-11-01 private_cars             6060     33                11596862   \n",
       "           taxis                  906980   4939                 1086368   \n",
       "2020-12-01 private_cars             6060     36                11629785   \n",
       "           taxis                  868600   5160                  979842   \n",
       "\n",
       "                                  Total Dispatched Shared Trips  \\\n",
       "year_month private_cars_or_taxis                                  \n",
       "2015-01-01 private_cars                                       0   \n",
       "           taxis                                              0   \n",
       "2015-02-01 private_cars                                       0   \n",
       "           taxis                                              0   \n",
       "2015-03-01 private_cars                                       0   \n",
       "...                                                         ...   \n",
       "2020-10-01 taxis                                              0   \n",
       "2020-11-01 private_cars                                       0   \n",
       "           taxis                                              0   \n",
       "2020-12-01 private_cars                                       0   \n",
       "           taxis                                              0   \n",
       "\n",
       "                                  Unique Dispatched Vehicles  prop_of_trips  \n",
       "year_month private_cars_or_taxis                                             \n",
       "2015-01-01 private_cars                                12544           69.3  \n",
       "           taxis                                        7801           30.7  \n",
       "2015-02-01 private_cars                                13531           72.1  \n",
       "           taxis                                        7640           27.9  \n",
       "2015-03-01 private_cars                                14290           71.0  \n",
       "...                                                      ...            ...  \n",
       "2020-10-01 taxis                                       13029            8.4  \n",
       "2020-11-01 private_cars                                81905           91.4  \n",
       "           taxis                                       12140            8.6  \n",
       "2020-12-01 private_cars                                80517           92.2  \n",
       "           taxis                                       10769            7.8  \n",
       "\n",
       "[144 rows x 6 columns]"
      ]
     },
     "execution_count": 64,
     "metadata": {},
     "output_type": "execute_result"
    }
   ],
   "source": [
    "#finding the proprtion of trips in percentage fulfilled by \"private_cars\" and \"taxis\" for each month\n",
    "#this is included as a new column called 'prop_of_trips'\n",
    "total_trips_private_cars_or_taxis['prop_of_trips'] = round((total_trips_private_cars_or_taxis['Total Dispatched Trips'] / total_trips_private_cars_or_taxis.groupby('year_month')['Total Dispatched Trips'].transform('sum')) * 100, 1)\n",
    "total_trips_private_cars_or_taxis\n"
   ]
  },
  {
   "cell_type": "markdown",
   "metadata": {},
   "source": [
    "### Key Insight #1. Please refer to the comments in the following cell"
   ]
  },
  {
   "cell_type": "code",
   "execution_count": 65,
   "metadata": {},
   "outputs": [
    {
     "data": {
      "text/plain": [
       "<AxesSubplot:xlabel='year_month', ylabel='Total Dispatched Trips'>"
      ]
     },
     "execution_count": 65,
     "metadata": {},
     "output_type": "execute_result"
    },
    {
     "data": {
      "image/png": "[encoded data removed]",
      "text/plain": [
       "<Figure size 432x288 with 1 Axes>"
      ]
     },
     "metadata": {
      "needs_background": "light"
     },
     "output_type": "display_data"
    }
   ],
   "source": [
    "#Key Insight #1: we see that over the years, the private cars have grown exponentially in market size as compared to taxis\n",
    "#there is a huge dip in the number of trips fulfilled by private companies in 2020. This is likely to be due to the COVID pandemic with lockdowns\n",
    "#now we are looking at a recovery for private hire cars though it is still approximately half of the pre-pandemic levels\n",
    "\n",
    "#plotting the time series of \"Total Dispatched Trips\" with sbtratification by 'private_cars_or_taxis'\n",
    "\n",
    "sns.lineplot(x = \"year_month\", y = \"Total Dispatched Trips\", hue = 'private_cars_or_taxis', ci=None,\n",
    "             data = total_trips_private_cars_or_taxis)"
   ]
  },
  {
   "cell_type": "markdown",
   "metadata": {},
   "source": [
    "## Key Insight #2. Please refer to the comments in the following cell"
   ]
  },
  {
   "cell_type": "code",
   "execution_count": 66,
   "metadata": {},
   "outputs": [
    {
     "data": {
      "text/plain": [
       "<AxesSubplot:xlabel='year_month', ylabel='Count'>"
      ]
     },
     "execution_count": 66,
     "metadata": {},
     "output_type": "execute_result"
    },
    {
     "data": {
      "image/png": "[encoded data removed]",
      "text/plain": [
       "<Figure size 432x288 with 1 Axes>"
      ]
     },
     "metadata": {
      "needs_background": "light"
     },
     "output_type": "display_data"
    }
   ],
   "source": [
    "#Key Insight #2: Based on the stacked plot, we can see that in line with the lineplot earlier, the percentage of private_cars market share\n",
    "#has increased over time even with increasing number of total rides. This implies that the private cars companies are not only\n",
    "#growing in terms of number of trips but also in the percentage of overall market share.\n",
    "\n",
    "#plotting the time series of proportion of trips fulfilled by \"private_cars\" and \"taxis\" for each month\n",
    "\n",
    "#sns.barplot(x = \"year_month\", y = \"prop_of_trips\", hue = 'private_cars_or_taxis',\n",
    "#             data = total_trips_private_cars_or_taxis)b\n",
    "\n",
    "#finding the num of unique months. note that we need to divide by two as the index is based on 'year_month' and 'private_cars_or_taxis\"\n",
    "#note that the gaps in between is due to the shortcoming of binning based on the num of months in the dataset\n",
    "\n",
    "sns.histplot(data = total_trips_private_cars_or_taxis, x='year_month', hue='private_cars_or_taxis', weights='prop_of_trips',multiple='stack', bins = 74)"
   ]
  },
  {
   "cell_type": "code",
   "execution_count": 67,
   "metadata": {},
   "outputs": [
    {
     "data": {
      "text/html": [
       "<div>\n",
       "<style scoped>\n",
       "    .dataframe tbody tr th:only-of-type {\n",
       "        vertical-align: middle;\n",
       "    }\n",
       "\n",
       "    .dataframe tbody tr th {\n",
       "        vertical-align: top;\n",
       "    }\n",
       "\n",
       "    .dataframe thead th {\n",
       "        text-align: right;\n",
       "    }\n",
       "</style>\n",
       "<table border=\"1\" class=\"dataframe\">\n",
       "  <thead>\n",
       "    <tr style=\"text-align: right;\">\n",
       "      <th></th>\n",
       "      <th></th>\n",
       "      <th>Year</th>\n",
       "      <th>Month</th>\n",
       "      <th>Total Dispatched Trips</th>\n",
       "      <th>Total Dispatched Shared Trips</th>\n",
       "      <th>Unique Dispatched Vehicles</th>\n",
       "    </tr>\n",
       "    <tr>\n",
       "      <th>year_month</th>\n",
       "      <th>uber_lyft_juno_via_taxis</th>\n",
       "      <th></th>\n",
       "      <th></th>\n",
       "      <th></th>\n",
       "      <th></th>\n",
       "      <th></th>\n",
       "    </tr>\n",
       "  </thead>\n",
       "  <tbody>\n",
       "    <tr>\n",
       "      <th rowspan=\"5\" valign=\"top\">2015-01-01</th>\n",
       "      <th>JUNO</th>\n",
       "      <td>NaN</td>\n",
       "      <td>NaN</td>\n",
       "      <td>NaN</td>\n",
       "      <td>NaN</td>\n",
       "      <td>NaN</td>\n",
       "    </tr>\n",
       "    <tr>\n",
       "      <th>LYFT</th>\n",
       "      <td>NaN</td>\n",
       "      <td>NaN</td>\n",
       "      <td>NaN</td>\n",
       "      <td>NaN</td>\n",
       "      <td>NaN</td>\n",
       "    </tr>\n",
       "    <tr>\n",
       "      <th>UBER</th>\n",
       "      <td>2015.0</td>\n",
       "      <td>1.0</td>\n",
       "      <td>1871075.0</td>\n",
       "      <td>0.0</td>\n",
       "      <td>12544.0</td>\n",
       "    </tr>\n",
       "    <tr>\n",
       "      <th>VIA</th>\n",
       "      <td>NaN</td>\n",
       "      <td>NaN</td>\n",
       "      <td>NaN</td>\n",
       "      <td>NaN</td>\n",
       "      <td>NaN</td>\n",
       "    </tr>\n",
       "    <tr>\n",
       "      <th>taxis</th>\n",
       "      <td>98735.0</td>\n",
       "      <td>49.0</td>\n",
       "      <td>828162.0</td>\n",
       "      <td>0.0</td>\n",
       "      <td>7801.0</td>\n",
       "    </tr>\n",
       "    <tr>\n",
       "      <th>...</th>\n",
       "      <th>...</th>\n",
       "      <td>...</td>\n",
       "      <td>...</td>\n",
       "      <td>...</td>\n",
       "      <td>...</td>\n",
       "      <td>...</td>\n",
       "    </tr>\n",
       "    <tr>\n",
       "      <th rowspan=\"5\" valign=\"top\">2020-12-01</th>\n",
       "      <th>JUNO</th>\n",
       "      <td>NaN</td>\n",
       "      <td>NaN</td>\n",
       "      <td>NaN</td>\n",
       "      <td>NaN</td>\n",
       "      <td>NaN</td>\n",
       "    </tr>\n",
       "    <tr>\n",
       "      <th>LYFT</th>\n",
       "      <td>2020.0</td>\n",
       "      <td>12.0</td>\n",
       "      <td>3022808.0</td>\n",
       "      <td>0.0</td>\n",
       "      <td>33771.0</td>\n",
       "    </tr>\n",
       "    <tr>\n",
       "      <th>UBER</th>\n",
       "      <td>2020.0</td>\n",
       "      <td>12.0</td>\n",
       "      <td>8479682.0</td>\n",
       "      <td>0.0</td>\n",
       "      <td>43257.0</td>\n",
       "    </tr>\n",
       "    <tr>\n",
       "      <th>VIA</th>\n",
       "      <td>2020.0</td>\n",
       "      <td>12.0</td>\n",
       "      <td>127295.0</td>\n",
       "      <td>0.0</td>\n",
       "      <td>3489.0</td>\n",
       "    </tr>\n",
       "    <tr>\n",
       "      <th>taxis</th>\n",
       "      <td>868600.0</td>\n",
       "      <td>5160.0</td>\n",
       "      <td>979842.0</td>\n",
       "      <td>0.0</td>\n",
       "      <td>10769.0</td>\n",
       "    </tr>\n",
       "  </tbody>\n",
       "</table>\n",
       "<p>360 rows × 5 columns</p>\n",
       "</div>"
      ],
      "text/plain": [
       "                                         Year   Month  Total Dispatched Trips  \\\n",
       "year_month uber_lyft_juno_via_taxis                                             \n",
       "2015-01-01 JUNO                           NaN     NaN                     NaN   \n",
       "           LYFT                           NaN     NaN                     NaN   \n",
       "           UBER                        2015.0     1.0               1871075.0   \n",
       "           VIA                            NaN     NaN                     NaN   \n",
       "           taxis                      98735.0    49.0                828162.0   \n",
       "...                                       ...     ...                     ...   \n",
       "2020-12-01 JUNO                           NaN     NaN                     NaN   \n",
       "           LYFT                        2020.0    12.0               3022808.0   \n",
       "           UBER                        2020.0    12.0               8479682.0   \n",
       "           VIA                         2020.0    12.0                127295.0   \n",
       "           taxis                     868600.0  5160.0                979842.0   \n",
       "\n",
       "                                     Total Dispatched Shared Trips  \\\n",
       "year_month uber_lyft_juno_via_taxis                                  \n",
       "2015-01-01 JUNO                                                NaN   \n",
       "           LYFT                                                NaN   \n",
       "           UBER                                                0.0   \n",
       "           VIA                                                 NaN   \n",
       "           taxis                                               0.0   \n",
       "...                                                            ...   \n",
       "2020-12-01 JUNO                                                NaN   \n",
       "           LYFT                                                0.0   \n",
       "           UBER                                                0.0   \n",
       "           VIA                                                 0.0   \n",
       "           taxis                                               0.0   \n",
       "\n",
       "                                     Unique Dispatched Vehicles  \n",
       "year_month uber_lyft_juno_via_taxis                              \n",
       "2015-01-01 JUNO                                             NaN  \n",
       "           LYFT                                             NaN  \n",
       "           UBER                                         12544.0  \n",
       "           VIA                                              NaN  \n",
       "           taxis                                         7801.0  \n",
       "...                                                         ...  \n",
       "2020-12-01 JUNO                                             NaN  \n",
       "           LYFT                                         33771.0  \n",
       "           UBER                                         43257.0  \n",
       "           VIA                                           3489.0  \n",
       "           taxis                                        10769.0  \n",
       "\n",
       "[360 rows x 5 columns]"
      ]
     },
     "execution_count": 67,
     "metadata": {},
     "output_type": "execute_result"
    }
   ],
   "source": [
    "#using the method groupby to populate the trips based on 'year_month' and 'private_cars_or_taxis'\n",
    "total_trips_privateuber_lyft_juno_via_taxis = data.groupby(['year_month', 'uber_lyft_juno_via_taxis']).sum()\n",
    "total_trips_privateuber_lyft_juno_via_taxis\n"
   ]
  },
  {
   "cell_type": "markdown",
   "metadata": {},
   "source": [
    "### Key Insight #3. Please refer to the comments in the following cell"
   ]
  },
  {
   "cell_type": "code",
   "execution_count": 68,
   "metadata": {},
   "outputs": [
    {
     "data": {
      "text/plain": [
       "<AxesSubplot:xlabel='year_month', ylabel='Total Dispatched Trips'>"
      ]
     },
     "execution_count": 68,
     "metadata": {},
     "output_type": "execute_result"
    },
    {
     "data": {
      "image/png": "[encoded data removed]",
      "text/plain": [
       "<Figure size 432x288 with 1 Axes>"
      ]
     },
     "metadata": {
      "needs_background": "light"
     },
     "output_type": "display_data"
    }
   ],
   "source": [
    "#Key Insight #3: similar to the line plot of private cars vs taxis, we see that Uber has the lion share followed by Lyft.\n",
    "#also, we see that Juno has not progressed well over the years and stopped offering services since the end of 2019.\n",
    "#this is in line with the news that Juno was acquired by her parent company and stopped transportation services since November 2019\n",
    "\n",
    "#plotting the time series of \"Total Dispatched Trips\" with stratification by 'uber_lyft_juno_via_taxis'\n",
    "\n",
    "sns.lineplot(x = \"year_month\", y = \"Total Dispatched Trips\", hue = 'uber_lyft_juno_via_taxis', ci=None,\n",
    "             data = total_trips_privateuber_lyft_juno_via_taxis)\n"
   ]
  },
  {
   "cell_type": "code",
   "execution_count": 69,
   "metadata": {},
   "outputs": [
    {
     "data": {
      "text/html": [
       "<div>\n",
       "<style scoped>\n",
       "    .dataframe tbody tr th:only-of-type {\n",
       "        vertical-align: middle;\n",
       "    }\n",
       "\n",
       "    .dataframe tbody tr th {\n",
       "        vertical-align: top;\n",
       "    }\n",
       "\n",
       "    .dataframe thead th {\n",
       "        text-align: right;\n",
       "    }\n",
       "</style>\n",
       "<table border=\"1\" class=\"dataframe\">\n",
       "  <thead>\n",
       "    <tr style=\"text-align: right;\">\n",
       "      <th></th>\n",
       "      <th></th>\n",
       "      <th>Year</th>\n",
       "      <th>Month</th>\n",
       "      <th>Total Dispatched Trips</th>\n",
       "      <th>Total Dispatched Shared Trips</th>\n",
       "      <th>Unique Dispatched Vehicles</th>\n",
       "    </tr>\n",
       "    <tr>\n",
       "      <th>seasons</th>\n",
       "      <th>uber_lyft_juno_via_taxis</th>\n",
       "      <th></th>\n",
       "      <th></th>\n",
       "      <th></th>\n",
       "      <th></th>\n",
       "      <th></th>\n",
       "    </tr>\n",
       "  </thead>\n",
       "  <tbody>\n",
       "    <tr>\n",
       "      <th rowspan=\"5\" valign=\"top\">fall</th>\n",
       "      <th>JUNO</th>\n",
       "      <td>24210</td>\n",
       "      <td>96</td>\n",
       "      <td>9062121</td>\n",
       "      <td>0</td>\n",
       "      <td>203483</td>\n",
       "    </tr>\n",
       "    <tr>\n",
       "      <th>LYFT</th>\n",
       "      <td>36315</td>\n",
       "      <td>144</td>\n",
       "      <td>45647288</td>\n",
       "      <td>6789775</td>\n",
       "      <td>506669</td>\n",
       "    </tr>\n",
       "    <tr>\n",
       "      <th>UBER</th>\n",
       "      <td>36315</td>\n",
       "      <td>144</td>\n",
       "      <td>163780666</td>\n",
       "      <td>20150983</td>\n",
       "      <td>922895</td>\n",
       "    </tr>\n",
       "    <tr>\n",
       "      <th>VIA</th>\n",
       "      <td>36315</td>\n",
       "      <td>144</td>\n",
       "      <td>10887718</td>\n",
       "      <td>5284657</td>\n",
       "      <td>64872</td>\n",
       "    </tr>\n",
       "    <tr>\n",
       "      <th>taxis</th>\n",
       "      <td>17328668</td>\n",
       "      <td>68715</td>\n",
       "      <td>35373049</td>\n",
       "      <td>21496</td>\n",
       "      <td>339648</td>\n",
       "    </tr>\n",
       "    <tr>\n",
       "      <th rowspan=\"5\" valign=\"top\">spring</th>\n",
       "      <th>JUNO</th>\n",
       "      <td>20178</td>\n",
       "      <td>21</td>\n",
       "      <td>9391147</td>\n",
       "      <td>0</td>\n",
       "      <td>172887</td>\n",
       "    </tr>\n",
       "    <tr>\n",
       "      <th>LYFT</th>\n",
       "      <td>30270</td>\n",
       "      <td>30</td>\n",
       "      <td>44351665</td>\n",
       "      <td>8143177</td>\n",
       "      <td>484033</td>\n",
       "    </tr>\n",
       "    <tr>\n",
       "      <th>UBER</th>\n",
       "      <td>36315</td>\n",
       "      <td>36</td>\n",
       "      <td>167748417</td>\n",
       "      <td>21487053</td>\n",
       "      <td>915074</td>\n",
       "    </tr>\n",
       "    <tr>\n",
       "      <th>VIA</th>\n",
       "      <td>30270</td>\n",
       "      <td>30</td>\n",
       "      <td>11081712</td>\n",
       "      <td>5152965</td>\n",
       "      <td>61721</td>\n",
       "    </tr>\n",
       "    <tr>\n",
       "      <th>taxis</th>\n",
       "      <td>16343920</td>\n",
       "      <td>16159</td>\n",
       "      <td>38709731</td>\n",
       "      <td>5545</td>\n",
       "      <td>365597</td>\n",
       "    </tr>\n",
       "    <tr>\n",
       "      <th rowspan=\"5\" valign=\"top\">summer</th>\n",
       "      <th>JUNO</th>\n",
       "      <td>24210</td>\n",
       "      <td>60</td>\n",
       "      <td>7901223</td>\n",
       "      <td>0</td>\n",
       "      <td>190354</td>\n",
       "    </tr>\n",
       "    <tr>\n",
       "      <th>LYFT</th>\n",
       "      <td>36315</td>\n",
       "      <td>90</td>\n",
       "      <td>38325377</td>\n",
       "      <td>5381310</td>\n",
       "      <td>438613</td>\n",
       "    </tr>\n",
       "    <tr>\n",
       "      <th>UBER</th>\n",
       "      <td>36315</td>\n",
       "      <td>90</td>\n",
       "      <td>147256312</td>\n",
       "      <td>16935384</td>\n",
       "      <td>817902</td>\n",
       "    </tr>\n",
       "    <tr>\n",
       "      <th>VIA</th>\n",
       "      <td>36315</td>\n",
       "      <td>90</td>\n",
       "      <td>10267357</td>\n",
       "      <td>4430401</td>\n",
       "      <td>58581</td>\n",
       "    </tr>\n",
       "    <tr>\n",
       "      <th>taxis</th>\n",
       "      <td>17164845</td>\n",
       "      <td>42678</td>\n",
       "      <td>37510957</td>\n",
       "      <td>1723</td>\n",
       "      <td>337470</td>\n",
       "    </tr>\n",
       "    <tr>\n",
       "      <th rowspan=\"5\" valign=\"top\">winter</th>\n",
       "      <th>JUNO</th>\n",
       "      <td>22191</td>\n",
       "      <td>120</td>\n",
       "      <td>9357119</td>\n",
       "      <td>0</td>\n",
       "      <td>195337</td>\n",
       "    </tr>\n",
       "    <tr>\n",
       "      <th>LYFT</th>\n",
       "      <td>36315</td>\n",
       "      <td>198</td>\n",
       "      <td>52035037</td>\n",
       "      <td>8244725</td>\n",
       "      <td>556148</td>\n",
       "    </tr>\n",
       "    <tr>\n",
       "      <th>UBER</th>\n",
       "      <td>36315</td>\n",
       "      <td>198</td>\n",
       "      <td>184506509</td>\n",
       "      <td>21331178</td>\n",
       "      <td>985538</td>\n",
       "    </tr>\n",
       "    <tr>\n",
       "      <th>VIA</th>\n",
       "      <td>36315</td>\n",
       "      <td>198</td>\n",
       "      <td>11438353</td>\n",
       "      <td>5504039</td>\n",
       "      <td>69714</td>\n",
       "    </tr>\n",
       "    <tr>\n",
       "      <th>taxis</th>\n",
       "      <td>18341887</td>\n",
       "      <td>100011</td>\n",
       "      <td>41745699</td>\n",
       "      <td>17870</td>\n",
       "      <td>386525</td>\n",
       "    </tr>\n",
       "  </tbody>\n",
       "</table>\n",
       "</div>"
      ],
      "text/plain": [
       "                                      Year   Month  Total Dispatched Trips  \\\n",
       "seasons uber_lyft_juno_via_taxis                                             \n",
       "fall    JUNO                         24210      96                 9062121   \n",
       "        LYFT                         36315     144                45647288   \n",
       "        UBER                         36315     144               163780666   \n",
       "        VIA                          36315     144                10887718   \n",
       "        taxis                     17328668   68715                35373049   \n",
       "spring  JUNO                         20178      21                 9391147   \n",
       "        LYFT                         30270      30                44351665   \n",
       "        UBER                         36315      36               167748417   \n",
       "        VIA                          30270      30                11081712   \n",
       "        taxis                     16343920   16159                38709731   \n",
       "summer  JUNO                         24210      60                 7901223   \n",
       "        LYFT                         36315      90                38325377   \n",
       "        UBER                         36315      90               147256312   \n",
       "        VIA                          36315      90                10267357   \n",
       "        taxis                     17164845   42678                37510957   \n",
       "winter  JUNO                         22191     120                 9357119   \n",
       "        LYFT                         36315     198                52035037   \n",
       "        UBER                         36315     198               184506509   \n",
       "        VIA                          36315     198                11438353   \n",
       "        taxis                     18341887  100011                41745699   \n",
       "\n",
       "                                  Total Dispatched Shared Trips  \\\n",
       "seasons uber_lyft_juno_via_taxis                                  \n",
       "fall    JUNO                                                  0   \n",
       "        LYFT                                            6789775   \n",
       "        UBER                                           20150983   \n",
       "        VIA                                             5284657   \n",
       "        taxis                                             21496   \n",
       "spring  JUNO                                                  0   \n",
       "        LYFT                                            8143177   \n",
       "        UBER                                           21487053   \n",
       "        VIA                                             5152965   \n",
       "        taxis                                              5545   \n",
       "summer  JUNO                                                  0   \n",
       "        LYFT                                            5381310   \n",
       "        UBER                                           16935384   \n",
       "        VIA                                             4430401   \n",
       "        taxis                                              1723   \n",
       "winter  JUNO                                                  0   \n",
       "        LYFT                                            8244725   \n",
       "        UBER                                           21331178   \n",
       "        VIA                                             5504039   \n",
       "        taxis                                             17870   \n",
       "\n",
       "                                  Unique Dispatched Vehicles  \n",
       "seasons uber_lyft_juno_via_taxis                              \n",
       "fall    JUNO                                          203483  \n",
       "        LYFT                                          506669  \n",
       "        UBER                                          922895  \n",
       "        VIA                                            64872  \n",
       "        taxis                                         339648  \n",
       "spring  JUNO                                          172887  \n",
       "        LYFT                                          484033  \n",
       "        UBER                                          915074  \n",
       "        VIA                                            61721  \n",
       "        taxis                                         365597  \n",
       "summer  JUNO                                          190354  \n",
       "        LYFT                                          438613  \n",
       "        UBER                                          817902  \n",
       "        VIA                                            58581  \n",
       "        taxis                                         337470  \n",
       "winter  JUNO                                          195337  \n",
       "        LYFT                                          556148  \n",
       "        UBER                                          985538  \n",
       "        VIA                                            69714  \n",
       "        taxis                                         386525  "
      ]
     },
     "execution_count": 69,
     "metadata": {},
     "output_type": "execute_result"
    }
   ],
   "source": [
    "#using the method groupby to populate the trips based on 'seasons' \n",
    "total_trips_seasons = data.groupby(['seasons', 'uber_lyft_juno_via_taxis']).sum()\n",
    "total_trips_seasons"
   ]
  },
  {
   "cell_type": "markdown",
   "metadata": {},
   "source": [
    "### Key Insight #4. Please refer to the comments in the following cell"
   ]
  },
  {
   "cell_type": "code",
   "execution_count": 70,
   "metadata": {},
   "outputs": [
    {
     "data": {
      "text/plain": [
       "<AxesSubplot:xlabel='seasons', ylabel='Total Dispatched Trips'>"
      ]
     },
     "execution_count": 70,
     "metadata": {},
     "output_type": "execute_result"
    },
    {
     "data": {
      "image/png": "[encoded data removed]",
      "text/plain": [
       "<Figure size 432x288 with 1 Axes>"
      ]
     },
     "metadata": {
      "needs_background": "light"
     },
     "output_type": "display_data"
    }
   ],
   "source": [
    "#Key Insight #4: as shown, there is a slight dip in demand for trips during summer over the years. the dip for Uber is higher\n",
    "#as compared to the other operators. On the other hand, demand for rides is typically higher during winter.\n",
    "#this could inform the allocation of resources for each company in tandem with seasonal effects on demand\n",
    "\n",
    "#plotting the time series of \"Total Dispatched Trips\" with stratification by 'uber_lyft_juno_via_taxis'\n",
    "\n",
    "sns.lineplot(x = \"seasons\", y = \"Total Dispatched Trips\", hue = 'uber_lyft_juno_via_taxis', ci=None,\n",
    "             data = total_trips_seasons)\n"
   ]
  },
  {
   "cell_type": "markdown",
   "metadata": {},
   "source": [
    "### Key Insight #5. Please refer to the comments in the following cell"
   ]
  },
  {
   "cell_type": "code",
   "execution_count": 71,
   "metadata": {},
   "outputs": [
    {
     "data": {
      "text/plain": [
       "<AxesSubplot:xlabel='seasons', ylabel='Total Dispatched Trips'>"
      ]
     },
     "execution_count": 71,
     "metadata": {},
     "output_type": "execute_result"
    },
    {
     "data": {
      "image/png": "[encoded data removed]",
      "text/plain": [
       "<Figure size 432x288 with 1 Axes>"
      ]
     },
     "metadata": {
      "needs_background": "light"
     },
     "output_type": "display_data"
    }
   ],
   "source": [
    "#Insight 5: similar to the earlier lineplot, the demand during summer is weaker while demand during winter is higher than average\n",
    "#the maximum trips as shown by the dots correspond to that for Uber.\n",
    "#with the same conclusion as that from the lineplot, we could inform the allocation of resources for each company in tandem with seasonal effects on demand\n",
    "\n",
    "#extracting out the 'seasons' index from the multi-index before creating a new column 'seasons' to store the values\n",
    "total_trips_seasons['seasons'] = total_trips_seasons.index.get_level_values('seasons')\n",
    "\n",
    "#creating a boxplot to show the trends of median, lower and upper quartiles, min and max of trips per season\n",
    "sns.boxplot(y=\"Total Dispatched Trips\", x=\"seasons\", data = total_trips_seasons)"
   ]
  },
  {
   "cell_type": "markdown",
   "metadata": {},
   "source": [
    "## End of seaborn visualization and analysis for insights"
   ]
  },
  {
   "cell_type": "code",
   "execution_count": null,
   "metadata": {},
   "outputs": [],
   "source": []
  },
  {
   "cell_type": "markdown",
   "metadata": {},
   "source": [
    "## Start of Time Series Analyses using fbprophet package - further augments and reinforce the insights gleaned from the earlier seaborn visualizations\n",
    "\n",
    "\n",
    "\n",
    "### Key Insight #6. The time-series analyses for private_cars show that demand would be on an increasing trajectory. This aligns with the earlier insight from visualization using seaborn.\n",
    "\n",
    "\n",
    "\n",
    "### Key Insight #7. In contrast, time-series analyses for taxis show that the demand is going to decrease over time. Similarly, this aligns with the insights from seaborn plots. "
   ]
  },
  {
   "cell_type": "code",
   "execution_count": 72,
   "metadata": {},
   "outputs": [
    {
     "data": {
      "text/html": [
       "<div>\n",
       "<style scoped>\n",
       "    .dataframe tbody tr th:only-of-type {\n",
       "        vertical-align: middle;\n",
       "    }\n",
       "\n",
       "    .dataframe tbody tr th {\n",
       "        vertical-align: top;\n",
       "    }\n",
       "\n",
       "    .dataframe thead th {\n",
       "        text-align: right;\n",
       "    }\n",
       "</style>\n",
       "<table border=\"1\" class=\"dataframe\">\n",
       "  <thead>\n",
       "    <tr style=\"text-align: right;\">\n",
       "      <th></th>\n",
       "      <th></th>\n",
       "      <th>Year</th>\n",
       "      <th>Month</th>\n",
       "      <th>Total Dispatched Trips</th>\n",
       "      <th>Total Dispatched Shared Trips</th>\n",
       "      <th>Unique Dispatched Vehicles</th>\n",
       "      <th>prop_of_trips</th>\n",
       "    </tr>\n",
       "    <tr>\n",
       "      <th>year_month</th>\n",
       "      <th>private_cars_or_taxis</th>\n",
       "      <th></th>\n",
       "      <th></th>\n",
       "      <th></th>\n",
       "      <th></th>\n",
       "      <th></th>\n",
       "      <th></th>\n",
       "    </tr>\n",
       "  </thead>\n",
       "  <tbody>\n",
       "    <tr>\n",
       "      <th rowspan=\"2\" valign=\"top\">2015-01-01</th>\n",
       "      <th>private_cars</th>\n",
       "      <td>2015</td>\n",
       "      <td>1</td>\n",
       "      <td>1871075</td>\n",
       "      <td>0</td>\n",
       "      <td>12544</td>\n",
       "      <td>69.3</td>\n",
       "    </tr>\n",
       "    <tr>\n",
       "      <th>taxis</th>\n",
       "      <td>98735</td>\n",
       "      <td>49</td>\n",
       "      <td>828162</td>\n",
       "      <td>0</td>\n",
       "      <td>7801</td>\n",
       "      <td>30.7</td>\n",
       "    </tr>\n",
       "    <tr>\n",
       "      <th rowspan=\"2\" valign=\"top\">2015-02-01</th>\n",
       "      <th>private_cars</th>\n",
       "      <td>2015</td>\n",
       "      <td>2</td>\n",
       "      <td>2178305</td>\n",
       "      <td>0</td>\n",
       "      <td>13531</td>\n",
       "      <td>72.1</td>\n",
       "    </tr>\n",
       "    <tr>\n",
       "      <th>taxis</th>\n",
       "      <td>96720</td>\n",
       "      <td>96</td>\n",
       "      <td>844752</td>\n",
       "      <td>0</td>\n",
       "      <td>7640</td>\n",
       "      <td>27.9</td>\n",
       "    </tr>\n",
       "    <tr>\n",
       "      <th>2015-03-01</th>\n",
       "      <th>private_cars</th>\n",
       "      <td>2015</td>\n",
       "      <td>3</td>\n",
       "      <td>2259575</td>\n",
       "      <td>0</td>\n",
       "      <td>14290</td>\n",
       "      <td>71.0</td>\n",
       "    </tr>\n",
       "  </tbody>\n",
       "</table>\n",
       "</div>"
      ],
      "text/plain": [
       "                                   Year  Month  Total Dispatched Trips  \\\n",
       "year_month private_cars_or_taxis                                         \n",
       "2015-01-01 private_cars            2015      1                 1871075   \n",
       "           taxis                  98735     49                  828162   \n",
       "2015-02-01 private_cars            2015      2                 2178305   \n",
       "           taxis                  96720     96                  844752   \n",
       "2015-03-01 private_cars            2015      3                 2259575   \n",
       "\n",
       "                                  Total Dispatched Shared Trips  \\\n",
       "year_month private_cars_or_taxis                                  \n",
       "2015-01-01 private_cars                                       0   \n",
       "           taxis                                              0   \n",
       "2015-02-01 private_cars                                       0   \n",
       "           taxis                                              0   \n",
       "2015-03-01 private_cars                                       0   \n",
       "\n",
       "                                  Unique Dispatched Vehicles  prop_of_trips  \n",
       "year_month private_cars_or_taxis                                             \n",
       "2015-01-01 private_cars                                12544           69.3  \n",
       "           taxis                                        7801           30.7  \n",
       "2015-02-01 private_cars                                13531           72.1  \n",
       "           taxis                                        7640           27.9  \n",
       "2015-03-01 private_cars                                14290           71.0  "
      ]
     },
     "execution_count": 72,
     "metadata": {},
     "output_type": "execute_result"
    }
   ],
   "source": [
    "#viewing the first few records of the dataframe that we will be using\n",
    "total_trips_private_cars_or_taxis.head()"
   ]
  },
  {
   "cell_type": "code",
   "execution_count": 73,
   "metadata": {},
   "outputs": [],
   "source": [
    "#importing the relevant packages for the time-series analyses\n",
    "from matplotlib import pyplot as plt\n",
    "from matplotlib.dates import MonthLocator, num2date\n",
    "from matplotlib.ticker import FuncFormatter\n",
    "from fbprophet import Prophet\n"
   ]
  },
  {
   "cell_type": "markdown",
   "metadata": {},
   "source": [
    "## Splitting the dataset into training and testing subsets for private_cars and taxis"
   ]
  },
  {
   "cell_type": "code",
   "execution_count": 74,
   "metadata": {},
   "outputs": [],
   "source": [
    "#splitting the dataset into training and testing subsets for private_cars and taxis respectively\n",
    "\n",
    "train = total_trips_private_cars_or_taxis.iloc[:101, :]\n",
    "train = train.reset_index()\n",
    "train_private_cars = train[train['private_cars_or_taxis'] == 'private_cars']\n",
    "train_taxis = train[train['private_cars_or_taxis'] == 'taxis']\n",
    "\n",
    "test = total_trips_private_cars_or_taxis.iloc[101:, :]\n",
    "test = test.reset_index()\n",
    "test_private_cars = test[test['private_cars_or_taxis'] == 'private_cars']\n",
    "test_taxis = test[test['private_cars_or_taxis'] == 'taxis']\n"
   ]
  },
  {
   "cell_type": "markdown",
   "metadata": {},
   "source": [
    "## Extracting the 2 columns containing the datetime and variable we are predicting (i.e. total trips) followed by renaming of these columns to 'ds' and 'y' respectively as these are the columns required for the model. "
   ]
  },
  {
   "cell_type": "code",
   "execution_count": 75,
   "metadata": {},
   "outputs": [],
   "source": [
    "#pulling out the 'year_month' and 'Total Dispatched Trips' columns for the time series analyses using fbprophet\n",
    "\n",
    "train_private_cars_trips = train_private_cars[['year_month', 'Total Dispatched Trips']]\n",
    "train_taxis_trips = train_taxis[['year_month', 'Total Dispatched Trips']]\n",
    "\n",
    "test_private_cars_trips = test_private_cars[['year_month', 'Total Dispatched Trips']]\n",
    "test_taxis_trips = test_taxis[['year_month', 'Total Dispatched Trips']]\n"
   ]
  },
  {
   "cell_type": "code",
   "execution_count": 76,
   "metadata": {},
   "outputs": [],
   "source": [
    "#converting the columns names to \"ds\" and \"y\" respectively as these are the required columns names for fbprophet\n",
    "\n",
    "train_private_cars_trips.columns = ['ds', 'y']\n",
    "train_taxis_trips.columns = ['ds', 'y']\n",
    "\n",
    "test_private_cars_trips.columns = ['ds', 'y']\n",
    "test_taxis_trips.columns = ['ds', 'y']\n"
   ]
  },
  {
   "cell_type": "markdown",
   "metadata": {},
   "source": [
    "## Fitting the time-series model for private_cars using the training subset"
   ]
  },
  {
   "cell_type": "code",
   "execution_count": 77,
   "metadata": {},
   "outputs": [
    {
     "data": {
      "text/plain": [
       "<fbprophet.forecaster.Prophet at 0x1d087e1fe80>"
      ]
     },
     "execution_count": 77,
     "metadata": {},
     "output_type": "execute_result"
    }
   ],
   "source": [
    "#fitting the time-series model for train_private_cars_trips. \n",
    "#adding a yearly seasonality to the model through add_seasonality() function\n",
    "#this model will be used subsequently to predict/ forecast the trips demand for private cars\n",
    "\n",
    "model = Prophet(interval_width=0.95, yearly_seasonality=False, weekly_seasonality=False, daily_seasonality=False, changepoint_prior_scale=2)\n",
    "model.add_seasonality(name='yearly', period=365, fourier_order=5, prior_scale=0.02)\n",
    "\n",
    "model.fit(train_private_cars_trips)\n"
   ]
  },
  {
   "cell_type": "markdown",
   "metadata": {},
   "source": [
    "## Predicting and visualizing the trends of total trips for private_cars"
   ]
  },
  {
   "cell_type": "code",
   "execution_count": 78,
   "metadata": {},
   "outputs": [
    {
     "data": {
      "image/png": "[encoded data removed]",
      "text/plain": [
       "<Figure size 720x432 with 1 Axes>"
      ]
     },
     "metadata": {},
     "output_type": "display_data"
    },
    {
     "data": {
      "image/png": "[encoded data removed]",
      "text/plain": [
       "<Figure size 648x432 with 2 Axes>"
      ]
     },
     "metadata": {},
     "output_type": "display_data"
    }
   ],
   "source": [
    "#finding the num of months (rows/ periods) for test data\n",
    "periods_forecast_private_cars_trips = test_private_cars_trips.shape[0]\n",
    "\n",
    "#predicting the num of trips going forward for private cars\n",
    "future_private_cars = model.make_future_dataframe(periods = periods_forecast_private_cars_trips, freq = 'M')\n",
    "forecast_private_cars = model.predict(future_private_cars)\n",
    "\n",
    "#plot the forecast of trips for private cars\n",
    "fig_private_cars = model.plot(forecast_private_cars)\n",
    "\n",
    "#use the plot_components() function to visualize overall trend and components of the time series\n",
    "fig_private_cars = model.plot_components(forecast_private_cars)"
   ]
  },
  {
   "cell_type": "markdown",
   "metadata": {},
   "source": [
    "## Fitting the time-series model for taxis using the training subset"
   ]
  },
  {
   "cell_type": "code",
   "execution_count": 79,
   "metadata": {},
   "outputs": [
    {
     "data": {
      "text/plain": [
       "<fbprophet.forecaster.Prophet at 0x1d08859b580>"
      ]
     },
     "execution_count": 79,
     "metadata": {},
     "output_type": "execute_result"
    }
   ],
   "source": [
    "#fitting the time-series model for train_private_cars_trips\n",
    "model2 = Prophet(interval_width=0.95, yearly_seasonality=False, weekly_seasonality=False, daily_seasonality=False, changepoint_prior_scale=2)\n",
    "model2.add_seasonality(name='yearly', period=365, fourier_order=5, prior_scale=0.02)\n",
    "\n",
    "model2.fit(train_taxis_trips)\n"
   ]
  },
  {
   "cell_type": "markdown",
   "metadata": {},
   "source": [
    "## Predicting and visualizing the trends of total trips for taxis"
   ]
  },
  {
   "cell_type": "code",
   "execution_count": 80,
   "metadata": {},
   "outputs": [
    {
     "data": {
      "image/png": "[encoded data removed]",
      "text/plain": [
       "<Figure size 720x432 with 1 Axes>"
      ]
     },
     "metadata": {},
     "output_type": "display_data"
    },
    {
     "data": {
      "image/png": "[encoded data removed]",
      "text/plain": [
       "<Figure size 648x432 with 2 Axes>"
      ]
     },
     "metadata": {},
     "output_type": "display_data"
    }
   ],
   "source": [
    "#finding the num of months (rows/ periods) for test data\n",
    "periods_forecast_taxis_trips = test_taxis_trips.shape[0]\n",
    "\n",
    "#predicting the num of trips going forward for taxis\n",
    "future_taxis = model2.make_future_dataframe(periods = periods_forecast_taxis_trips, freq = 'M')\n",
    "forecast_taxis = model2.predict(future_taxis)\n",
    "\n",
    "#plot the forecast of trips for taxis\n",
    "fig_taxis = model2.plot(forecast_taxis)\n",
    "\n",
    "#use the plot_components() function to visualize overall trend and components of the time series\n",
    "fig_taxis = model2.plot_components(forecast_taxis)\n"
   ]
  },
  {
   "cell_type": "markdown",
   "metadata": {},
   "source": [
    "## End of fbprohpet usage for time-series analyses to generate insights"
   ]
  },
  {
   "cell_type": "code",
   "execution_count": null,
   "metadata": {},
   "outputs": [],
   "source": []
  },
  {
   "cell_type": "code",
   "execution_count": null,
   "metadata": {},
   "outputs": [],
   "source": []
  },
  {
   "cell_type": "code",
   "execution_count": null,
   "metadata": {},
   "outputs": [],
   "source": []
  },
  {
   "cell_type": "code",
   "execution_count": null,
   "metadata": {},
   "outputs": [],
   "source": []
  },
  {
   "cell_type": "code",
   "execution_count": null,
   "metadata": {},
   "outputs": [],
   "source": []
  },
  {
   "cell_type": "code",
   "execution_count": null,
   "metadata": {},
   "outputs": [],
   "source": []
  },
  {
   "cell_type": "code",
   "execution_count": null,
   "metadata": {},
   "outputs": [],
   "source": []
  },
  {
   "cell_type": "code",
   "execution_count": null,
   "metadata": {},
   "outputs": [],
   "source": []
  },
  {
   "cell_type": "code",
   "execution_count": null,
   "metadata": {},
   "outputs": [],
   "source": []
  }
 ],
 "metadata": {
  "kernelspec": {
   "display_name": "Python 3",
   "language": "python",
   "name": "python3"
  },
  "language_info": {
   "codemirror_mode": {
    "name": "ipython",
    "version": 3
   },
   "file_extension": ".py",
   "mimetype": "text/x-python",
   "name": "python",
   "nbconvert_exporter": "python",
   "pygments_lexer": "ipython3",
   "version": "3.8.5"
  }
 },
 "nbformat": 4,
 "nbformat_minor": 4
}
